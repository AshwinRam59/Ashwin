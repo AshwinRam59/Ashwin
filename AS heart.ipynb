{
 "cells": [
  {
   "cell_type": "code",
   "execution_count": null,
   "id": "071fa10d",
   "metadata": {},
   "outputs": [],
   "source": [
    "import numpy as np\n",
    "import pandas as pd\n",
    "import seaborn as sns\n",
    "import matplotlib.pyplot as plt\n",
    "%matplotlib inline\n",
    "import warnings\n",
    "warnings.filterwarnings(\"ignore\")"
   ]
  },
  {
   "cell_type": "code",
   "execution_count": null,
   "id": "c813eee1",
   "metadata": {},
   "outputs": [],
   "source": [
    "data = pd.read_csv('values.csv')\n",
    "result=pd.read_csv('labels.csv')"
   ]
  },
  {
   "cell_type": "code",
   "execution_count": null,
   "id": "3ac68852",
   "metadata": {},
   "outputs": [],
   "source": [
    "data.head()"
   ]
  },
  {
   "cell_type": "code",
   "execution_count": null,
   "id": "181a3d41",
   "metadata": {
    "scrolled": false
   },
   "outputs": [],
   "source": [
    "result[\"heart_disease_present\"].value_counts()"
   ]
  },
  {
   "cell_type": "code",
   "execution_count": null,
   "id": "c3dea35e",
   "metadata": {},
   "outputs": [],
   "source": [
    "data.shape"
   ]
  },
  {
   "cell_type": "code",
   "execution_count": null,
   "id": "5376ad17",
   "metadata": {},
   "outputs": [],
   "source": [
    "data.describe()"
   ]
  },
  {
   "cell_type": "code",
   "execution_count": null,
   "id": "a965e1be",
   "metadata": {},
   "outputs": [],
   "source": [
    "data.describe(include='O')"
   ]
  },
  {
   "cell_type": "code",
   "execution_count": null,
   "id": "0c6341a4",
   "metadata": {},
   "outputs": [],
   "source": [
    "print(data.nunique())"
   ]
  },
  {
   "cell_type": "code",
   "execution_count": null,
   "id": "9ae9477e",
   "metadata": {},
   "outputs": [],
   "source": [
    "data.isnull().sum()"
   ]
  },
  {
   "cell_type": "code",
   "execution_count": null,
   "id": "2f65077d",
   "metadata": {
    "scrolled": true
   },
   "outputs": [],
   "source": [
    "data.info()"
   ]
  },
  {
   "cell_type": "code",
   "execution_count": null,
   "id": "b76460cc",
   "metadata": {},
   "outputs": [],
   "source": [
    "output=data.loc[(data['exercise_induced_angina']== 1)]\n",
    "output.head()"
   ]
  },
  {
   "cell_type": "code",
   "execution_count": null,
   "id": "183549e3",
   "metadata": {},
   "outputs": [],
   "source": [
    "output.shape"
   ]
  },
  {
   "cell_type": "code",
   "execution_count": null,
   "id": "a612b737",
   "metadata": {},
   "outputs": [],
   "source": [
    "categorical_val = []\n",
    "continous_val = []\n",
    "for column in data.columns:\n",
    "    if len(data[column].unique()) <= 10:\n",
    "        categorical_val.append(column)\n",
    "    else:\n",
    "        continous_val.append(column)"
   ]
  },
  {
   "cell_type": "code",
   "execution_count": null,
   "id": "bc5ae767",
   "metadata": {},
   "outputs": [],
   "source": [
    "categorical_val"
   ]
  },
  {
   "cell_type": "markdown",
   "id": "1ac4ebe6",
   "metadata": {},
   "source": [
    "# EDA"
   ]
  },
  {
   "cell_type": "code",
   "execution_count": null,
   "id": "c8837cf0",
   "metadata": {
    "scrolled": true
   },
   "outputs": [],
   "source": [
    "data.head()"
   ]
  },
  {
   "cell_type": "code",
   "execution_count": null,
   "id": "7483bd1e",
   "metadata": {},
   "outputs": [],
   "source": [
    "sns.countplot(hue=data.slope_of_peak_exercise_st_segment,x=result.heart_disease_present)"
   ]
  },
  {
   "cell_type": "code",
   "execution_count": null,
   "id": "019641cc",
   "metadata": {},
   "outputs": [],
   "source": [
    "data.columns"
   ]
  },
  {
   "cell_type": "code",
   "execution_count": null,
   "id": "a694f0e0",
   "metadata": {},
   "outputs": [],
   "source": [
    "sns.countplot(hue=data.thal,x=result.heart_disease_present)"
   ]
  },
  {
   "cell_type": "code",
   "execution_count": null,
   "id": "5e73c277",
   "metadata": {
    "scrolled": true
   },
   "outputs": [],
   "source": [
    "sns.scatterplot(data.resting_blood_pressure)"
   ]
  },
  {
   "cell_type": "code",
   "execution_count": null,
   "id": "122544bf",
   "metadata": {},
   "outputs": [],
   "source": [
    "sns.countplot(hue=data.chest_pain_type,x=result.heart_disease_present)"
   ]
  },
  {
   "cell_type": "code",
   "execution_count": null,
   "id": "fc0ff7a8",
   "metadata": {},
   "outputs": [],
   "source": [
    "sns.countplot(hue=data.num_major_vessels,x=result.heart_disease_present)"
   ]
  },
  {
   "cell_type": "code",
   "execution_count": null,
   "id": "de70f368",
   "metadata": {},
   "outputs": [],
   "source": [
    "sns.countplot(hue=data.fasting_blood_sugar_gt_120_mg_per_dl,x=result.heart_disease_present)"
   ]
  },
  {
   "cell_type": "code",
   "execution_count": null,
   "id": "94070337",
   "metadata": {},
   "outputs": [],
   "source": [
    "sns.countplot(hue=data.resting_ekg_results,x=result.heart_disease_present)"
   ]
  },
  {
   "cell_type": "code",
   "execution_count": null,
   "id": "db60a815",
   "metadata": {
    "scrolled": true
   },
   "outputs": [],
   "source": [
    "sns.countplot(hue=data.serum_cholesterol_mg_per_dl,x=result.heart_disease_present)"
   ]
  },
  {
   "cell_type": "code",
   "execution_count": null,
   "id": "023fa21d",
   "metadata": {},
   "outputs": [],
   "source": [
    "sns.countplot(hue=data.oldpeak_eq_st_depression,x=result.heart_disease_present)"
   ]
  },
  {
   "cell_type": "code",
   "execution_count": null,
   "id": "f90dc207",
   "metadata": {},
   "outputs": [],
   "source": [
    "sns.countplot(hue=data.sex,x=result.heart_disease_present)"
   ]
  },
  {
   "cell_type": "code",
   "execution_count": null,
   "id": "8198758b",
   "metadata": {},
   "outputs": [],
   "source": [
    "sns.scatterplot(x=data.age,y=result.heart_disease_present)"
   ]
  },
  {
   "cell_type": "code",
   "execution_count": null,
   "id": "0482ba85",
   "metadata": {},
   "outputs": [],
   "source": [
    "sns.countplot(hue=data.exercise_induced_angina,x=result.heart_disease_present)"
   ]
  },
  {
   "cell_type": "code",
   "execution_count": null,
   "id": "580e52c0",
   "metadata": {},
   "outputs": [],
   "source": [
    "plt.figure(figsize=(20,25), facecolor='white')#To set canvas \n",
    "plotnumber = 1#counter\n",
    "\n",
    "for column in data:#accessing the columns \n",
    "    if plotnumber<=16 :\n",
    "        ax = plt.subplot(4,4,plotnumber)\n",
    "        sns.histplot(x=data[column]\n",
    "                        ,hue=result.heart_disease_present)\n",
    "        plt.xlabel(column,fontsize=20)#assign name to x-axis and set font-20\n",
    "        plt.ylabel('Outcome',fontsize=20)\n",
    "    plotnumber+=1#counter increment"
   ]
  },
  {
   "cell_type": "code",
   "execution_count": null,
   "id": "77398740",
   "metadata": {},
   "outputs": [],
   "source": [
    "corr_matrix = data.corr()\n",
    "fig, ax = plt.subplots(figsize=(15, 15))\n",
    "ax = sns.heatmap(corr_matrix,\n",
    "                 annot=True,\n",
    "                 linewidths=0.5,\n",
    "                 fmt=\".2f\",\n",
    "                 cmap=\"YlGnBu\");\n",
    "bottom, top = ax.get_ylim()\n",
    "ax.set_ylim(bottom + 0.5, top - 0.5)"
   ]
  },
  {
   "cell_type": "code",
   "execution_count": null,
   "id": "c73512c6",
   "metadata": {},
   "outputs": [],
   "source": [
    "cat_values=data[['slope_of_peak_exercise_st_segment' ,'thal', 'chest_pain_type', 'num_major_vessels', 'fasting_blood_sugar_gt_120_mg_per_dl', 'resting_ekg_results', 'sex', 'exercise_induced_angina']]"
   ]
  },
  {
   "cell_type": "code",
   "execution_count": null,
   "id": "64d8ca41",
   "metadata": {},
   "outputs": [],
   "source": [
    "cat_values"
   ]
  },
  {
   "cell_type": "code",
   "execution_count": null,
   "id": "df764df0",
   "metadata": {},
   "outputs": [],
   "source": [
    "dataset = pd.get_dummies(data, columns = categorical_val)"
   ]
  },
  {
   "cell_type": "code",
   "execution_count": null,
   "id": "62362149",
   "metadata": {},
   "outputs": [],
   "source": [
    "dataset.head()"
   ]
  },
  {
   "cell_type": "code",
   "execution_count": null,
   "id": "0c2e4747",
   "metadata": {},
   "outputs": [],
   "source": [
    "data.shape"
   ]
  },
  {
   "cell_type": "code",
   "execution_count": null,
   "id": "15f475f8",
   "metadata": {},
   "outputs": [],
   "source": [
    "dataset.shape"
   ]
  },
  {
   "cell_type": "code",
   "execution_count": null,
   "id": "f2700e7d",
   "metadata": {},
   "outputs": [],
   "source": [
    "dataset.head()"
   ]
  },
  {
   "cell_type": "code",
   "execution_count": null,
   "id": "ef1ee00b",
   "metadata": {},
   "outputs": [],
   "source": [
    "dataset.drop([\"patient_id\"],axis=1,inplace=True)\n",
    "\n"
   ]
  },
  {
   "cell_type": "code",
   "execution_count": null,
   "id": "5e1f13f2",
   "metadata": {},
   "outputs": [],
   "source": [
    "Drop=dataset #scaled data"
   ]
  },
  {
   "cell_type": "code",
   "execution_count": null,
   "id": "0d87a2c3",
   "metadata": {
    "scrolled": true
   },
   "outputs": [],
   "source": [
    "from sklearn.preprocessing import StandardScaler\n",
    "scaler=StandardScaler()\n",
    "scaled_data=scaler.fit_transform(Drop)\n",
    "scaled_data"
   ]
  },
  {
   "cell_type": "code",
   "execution_count": null,
   "id": "b1ba7b09",
   "metadata": {},
   "outputs": [],
   "source": [
    "Drop"
   ]
  },
  {
   "cell_type": "code",
   "execution_count": null,
   "id": "297f85e3",
   "metadata": {},
   "outputs": [],
   "source": [
    "from sklearn.decomposition import PCA\n",
    "pca=PCA(0.90)\n",
    "x_pca=pca.fit_transform(Drop)\n",
    "x_pca"
   ]
  },
  {
   "cell_type": "code",
   "execution_count": null,
   "id": "018a5d02",
   "metadata": {},
   "outputs": [],
   "source": [
    "x_pca.shape"
   ]
  },
  {
   "cell_type": "code",
   "execution_count": null,
   "id": "e230d9de",
   "metadata": {},
   "outputs": [],
   "source": [
    "X=Drop"
   ]
  },
  {
   "cell_type": "code",
   "execution_count": null,
   "id": "65c0082e",
   "metadata": {},
   "outputs": [],
   "source": [
    "Y=result['heart_disease_present']"
   ]
  },
  {
   "cell_type": "code",
   "execution_count": null,
   "id": "26d9097d",
   "metadata": {},
   "outputs": [],
   "source": [
    "X.shape"
   ]
  },
  {
   "cell_type": "code",
   "execution_count": null,
   "id": "a7f5ca54",
   "metadata": {},
   "outputs": [],
   "source": [
    "from sklearn.model_selection import train_test_split"
   ]
  },
  {
   "cell_type": "code",
   "execution_count": null,
   "id": "2ab19710",
   "metadata": {},
   "outputs": [],
   "source": [
    "x_train,x_test,y_train,y_test=train_test_split(X,Y,test_size=0.3,random_state=110)"
   ]
  },
  {
   "cell_type": "code",
   "execution_count": null,
   "id": "08f4ff8f",
   "metadata": {},
   "outputs": [],
   "source": [
    "##Model creation\n",
    "from sklearn.linear_model import LogisticRegression\n",
    "log_reg = LogisticRegression()#object creation of lbbogistic regression\n",
    "    \n",
    "log_reg.fit(x_train,y_train)#training model with training data"
   ]
  },
  {
   "cell_type": "code",
   "execution_count": null,
   "id": "91d4a870",
   "metadata": {},
   "outputs": [],
   "source": [
    "x_train.shape"
   ]
  },
  {
   "cell_type": "code",
   "execution_count": null,
   "id": "4e6625c0",
   "metadata": {},
   "outputs": [],
   "source": [
    "x_test.shape"
   ]
  },
  {
   "cell_type": "code",
   "execution_count": null,
   "id": "92ffde9e",
   "metadata": {},
   "outputs": [],
   "source": [
    "y_test.shape"
   ]
  },
  {
   "cell_type": "code",
   "execution_count": null,
   "id": "11044d05",
   "metadata": {},
   "outputs": [],
   "source": [
    "y_pre=log_reg.predict(x_train)# predicting y_train  "
   ]
  },
  {
   "cell_type": "code",
   "execution_count": null,
   "id": "2f276733",
   "metadata": {},
   "outputs": [],
   "source": [
    "y_pre.shape\n"
   ]
  },
  {
   "cell_type": "code",
   "execution_count": null,
   "id": "ed7442b1",
   "metadata": {},
   "outputs": [],
   "source": [
    "y_pred = log_reg.predict(x_test) # testing model "
   ]
  },
  {
   "cell_type": "code",
   "execution_count": null,
   "id": "c73a6464",
   "metadata": {},
   "outputs": [],
   "source": [
    "## calculating accuracy\n",
    "from sklearn.metrics import accuracy_score,confusion_matrix,precision_score,recall_score,f1_score,classification_report\n",
    "print(\"The Accuracy score of Logistic Regression model is : \", accuracy_score(y_test,y_pred)*100)\n",
    "print('--------------------------------------------------------------------------------------------')\n",
    "print(\"The Precision score of Logistic Regression model is : \", precision_score(y_test,y_pred))\n",
    "print('--------------------------------------------------------------------------------------------')\n",
    "print(\"The Recall score of Logistic Regression model is : \", recall_score(y_test,y_pred))\n",
    "print('--------------------------------------------------------------------------------------------')\n",
    "print(\"The confusion_matrix of Logistic Regression model is :\\n \",confusion_matrix(y_test,y_pred))\n",
    "print('--------------------------------------------------------------------------------------------')\n",
    "print(\"Classification_report is : \\n\",classification_report(y_test,y_pred))\n"
   ]
  },
  {
   "cell_type": "code",
   "execution_count": null,
   "id": "41ef662f",
   "metadata": {},
   "outputs": [],
   "source": [
    "y_pred"
   ]
  },
  {
   "cell_type": "code",
   "execution_count": null,
   "id": "85195c36",
   "metadata": {},
   "outputs": [],
   "source": [
    "## model creation\n",
    "from xgboost import XGBClassifier#importing the model library\n",
    "xgb_r=XGBClassifier() ## object creation\n",
    "xgb_r.fit(x_train,y_train)# fitting the data\n",
    "y_hat=xgb_r.predict(x_test)#predicting the price"
   ]
  },
  {
   "cell_type": "code",
   "execution_count": null,
   "id": "90b461ed",
   "metadata": {},
   "outputs": [],
   "source": [
    "print(classification_report(y_test,y_hat))\n"
   ]
  },
  {
   "cell_type": "code",
   "execution_count": null,
   "id": "8ca20a1d",
   "metadata": {},
   "outputs": [],
   "source": [
    "print(\"The Accuracy score of Logistic Regression model is : \", accuracy_score(y_test,y_hat)*100)\n"
   ]
  },
  {
   "cell_type": "code",
   "execution_count": null,
   "id": "a127cd4f",
   "metadata": {},
   "outputs": [],
   "source": [
    "from sklearn.neighbors import KNeighborsClassifier"
   ]
  },
  {
   "cell_type": "code",
   "execution_count": null,
   "id": "764809da",
   "metadata": {},
   "outputs": [],
   "source": [
    "knn = KNeighborsClassifier(n_neighbors = 10)\n",
    "knn.fit(x_train,y_train)\n",
    "y_pred1 = knn.predict(x_test)\n",
    "print(accuracy_score(y_test,y_pred1))"
   ]
  },
  {
   "cell_type": "code",
   "execution_count": null,
   "id": "cfc06477",
   "metadata": {},
   "outputs": [],
   "source": [
    "x_test\n"
   ]
  },
  {
   "cell_type": "code",
   "execution_count": null,
   "id": "99b32c80",
   "metadata": {},
   "outputs": [],
   "source": [
    "from sklearn.tree import DecisionTreeClassifier#importing decision tree from sklearn.tree\n",
    "dt=DecisionTreeClassifier()#object creation for decision tree  \n",
    "dt.fit(x_train,y_train)#training the model\n",
    "y_hat=dt.predict(x_test)#prediction\n",
    "y_hat#predicted values "
   ]
  },
  {
   "cell_type": "code",
   "execution_count": null,
   "id": "3a44bfbd",
   "metadata": {},
   "outputs": [],
   "source": [
    "y_train_predict=dt.predict(x_train)#predicting training data to check training performance \n",
    "y_train_predict"
   ]
  },
  {
   "cell_type": "code",
   "execution_count": null,
   "id": "bed967ce",
   "metadata": {},
   "outputs": [],
   "source": [
    "## Evalauting the model\n",
    "from sklearn.metrics import accuracy_score,classification_report,f1_score#importing mertics to check model performance\n",
    "##Training score\n",
    "y_train_predict=dt.predict(x_train)#passing X_train to predict Y_train\n",
    "acc_train=accuracy_score(y_train,y_train_predict)#checking accuracy\n",
    "acc_train\n"
   ]
  },
  {
   "cell_type": "code",
   "execution_count": null,
   "id": "0c3099f0",
   "metadata": {},
   "outputs": [],
   "source": [
    "print(classification_report(y_train,y_train_predict))# it will give precision,recall,f1 scores and accuracy  "
   ]
  },
  {
   "cell_type": "code",
   "execution_count": null,
   "id": "8f620d57",
   "metadata": {},
   "outputs": [],
   "source": [
    "from sklearn.ensemble import RandomForestClassifier#importing randomforest\n",
    "\n",
    "rf_clf = RandomForestClassifier(n_estimators=100)#object creation ,taking 100 decision tree in random forest \n",
    "rf_clf.fit(x_train,y_train)#training the data"
   ]
  },
  {
   "cell_type": "code",
   "execution_count": null,
   "id": "a870ea42",
   "metadata": {},
   "outputs": [],
   "source": [
    "from sklearn.ensemble import RandomForestClassifier"
   ]
  },
  {
   "cell_type": "code",
   "execution_count": null,
   "id": "6d1ace17",
   "metadata": {},
   "outputs": [],
   "source": [
    "RandomForestClassifier()"
   ]
  },
  {
   "cell_type": "code",
   "execution_count": null,
   "id": "1d22babe",
   "metadata": {},
   "outputs": [],
   "source": [
    "y_predict=rf_clf.predict(x_test)#testing"
   ]
  },
  {
   "cell_type": "code",
   "execution_count": null,
   "id": "264c5428",
   "metadata": {},
   "outputs": [],
   "source": [
    "print(classification_report(y_test,y_predict))"
   ]
  }
 ],
 "metadata": {
  "kernelspec": {
   "display_name": "Python 3 (ipykernel)",
   "language": "python",
   "name": "python3"
  },
  "language_info": {
   "codemirror_mode": {
    "name": "ipython",
    "version": 3
   },
   "file_extension": ".py",
   "mimetype": "text/x-python",
   "name": "python",
   "nbconvert_exporter": "python",
   "pygments_lexer": "ipython3",
   "version": "3.9.12"
  }
 },
 "nbformat": 4,
 "nbformat_minor": 5
}
